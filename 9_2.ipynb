{
  "nbformat": 4,
  "nbformat_minor": 0,
  "metadata": {
    "colab": {
      "provenance": [],
      "gpuType": "T4"
    },
    "kernelspec": {
      "name": "python3",
      "display_name": "Python 3"
    },
    "language_info": {
      "name": "python"
    },
    "accelerator": "GPU"
  },
  "cells": [
    {
      "cell_type": "markdown",
      "source": [
        "# 09-1. 순차 데이터와 순환 신경망\n",
        "> p.486\n",
        "- 나중에 서비스화 하기에는 조금 거리가 있는 내용이긴함.\n"
      ],
      "metadata": {
        "id": "YDFooYWd67O9"
      }
    },
    {
      "cell_type": "markdown",
      "source": [
        "# 09-2. 순환 신경망으로 IMDB 리뷰 분류하기\n",
        "> p. 500\n",
        "- 텐서플로를 사용해 순환 신경망을 만들어 영화 리뷰 데이터셋에 적용해서 리뷰를 긍정과 부정으로 분류하기\n",
        "  > https://developer.imdb.com/documentation/api-documentation/calling-the-api/\n",
        "  - 영화 리뷰 데이터 api: 이 연습에서는 총 50,000개로 이루어진 긍정/ 부정 (각 25,000개) 으로 분류된 리뷰 데이터를 사용함.\n",
        "\n",
        "  > `순환 신경망` 분류 과정: 각 단어를 숫자로 바꾼다. 그리고 나뉜 단어(숫자)를 점수를 매겨 긍정/ 부정을 나눈다."
      ],
      "metadata": {
        "id": "FFygfx6y-EXZ"
      }
    },
    {
      "cell_type": "code",
      "execution_count": 3,
      "metadata": {
        "id": "jhyhou2366Zj"
      },
      "outputs": [],
      "source": [
        "# 텐서플로우에 저장되어있는 IMDB 리뷰 데이터 불러오기\n",
        "\n",
        "from tensorflow import keras"
      ]
    },
    {
      "cell_type": "code",
      "source": [
        "(train_input, train_target), (test_input, test_target) = keras.datasets.imdb.load_data(num_words=300)"
      ],
      "metadata": {
        "id": "ZFs09ivA_3jz"
      },
      "execution_count": 4,
      "outputs": []
    },
    {
      "cell_type": "code",
      "source": [
        "train_input.shape"
      ],
      "metadata": {
        "colab": {
          "base_uri": "https://localhost:8080/"
        },
        "id": "CzWijprE_8Qh",
        "outputId": "a9d7dc07-1065-437f-8a7d-6e1e889e35ce"
      },
      "execution_count": 5,
      "outputs": [
        {
          "output_type": "execute_result",
          "data": {
            "text/plain": [
              "(25000,)"
            ]
          },
          "metadata": {},
          "execution_count": 5
        }
      ]
    },
    {
      "cell_type": "code",
      "source": [
        "print(train_input.shape, test_input.shape)"
      ],
      "metadata": {
        "colab": {
          "base_uri": "https://localhost:8080/"
        },
        "id": "x5J6NN4vAPS0",
        "outputId": "0de29edf-d039-4cb0-ae6f-24515010456c"
      },
      "execution_count": 5,
      "outputs": [
        {
          "output_type": "stream",
          "name": "stdout",
          "text": [
            "(25000,) (25000,)\n"
          ]
        }
      ]
    },
    {
      "cell_type": "code",
      "source": [
        "len(train_input[0])\n",
        "# 리뷰를 문자가 아닌 숫자로 바라 볼 것이다.\n",
        "# 이미 숫자로 치환된 값을 볼 것이다.\n",
        "\n",
        "# 2라는 숫자는, 자주 쓰지 않은 단어로, 내가 쓰는 데이터에는 불필요하다고 2로 처리한 데이터값이다.\n",
        "\n",
        "# 첫 번째 리뷰의 길이는 218개의 토큰으로 이루어져있다."
      ],
      "metadata": {
        "colab": {
          "base_uri": "https://localhost:8080/"
        },
        "id": "K_dYzGsUCyfA",
        "outputId": "9926a141-89b1-4c66-fe09-837234893f91"
      },
      "execution_count": 6,
      "outputs": [
        {
          "output_type": "execute_result",
          "data": {
            "text/plain": [
              "218"
            ]
          },
          "metadata": {},
          "execution_count": 6
        }
      ]
    },
    {
      "cell_type": "code",
      "source": [
        "# 우리가 맞춰야되는 정보를 확인해보자\n",
        "train_target[:10]\n",
        "# 첫번째 리뷰는 긍정 (1), 두번째 리뷰는 부정 (0) 이다 => 이 데이터셋을 만든 사람이 이미 1은 긍정, 0은 부정이라고 분류해둔 상황"
      ],
      "metadata": {
        "colab": {
          "base_uri": "https://localhost:8080/"
        },
        "id": "rHymN8zsC0Qk",
        "outputId": "d8a6119a-b5a5-495e-cac3-d056e1afe7e1"
      },
      "execution_count": 7,
      "outputs": [
        {
          "output_type": "execute_result",
          "data": {
            "text/plain": [
              "array([1, 0, 0, 1, 0, 0, 1, 0, 1, 0])"
            ]
          },
          "metadata": {},
          "execution_count": 7
        }
      ]
    },
    {
      "cell_type": "code",
      "source": [
        "from sklearn.model_selection import train_test_split\n",
        "\n",
        "train_input, val_input, train_target, val_target = train_test_split(train_input, train_target)"
      ],
      "metadata": {
        "id": "DRsC_IIGD1G5"
      },
      "execution_count": 6,
      "outputs": []
    },
    {
      "cell_type": "code",
      "source": [
        "# 모든 리뷰데이터를 일괄적으로 같은 규격으로 맞춰줘야한다. (p.506)\n",
        "# pad_sequences\n",
        "\n",
        "from keras.preprocessing.sequence import pad_sequences\n",
        "train_seq = pad_sequences(train_input, maxlen=100)"
      ],
      "metadata": {
        "id": "aR0_kwPVDr2Y"
      },
      "execution_count": 7,
      "outputs": []
    },
    {
      "cell_type": "code",
      "source": [
        "train_seq.shape\n",
        "# 우리가 가진 데이터 중에 일부분은 테스트용으로 뺐고,\n",
        "# 100단어로 규격을 맞춰줌.\n",
        "# 학습을 시킬 때, 일괄적으로 똑같은 규격이 있어야 하기 때문에"
      ],
      "metadata": {
        "colab": {
          "base_uri": "https://localhost:8080/"
        },
        "id": "qxyUN0JbFA-T",
        "outputId": "e27f1ab3-377a-4e20-8b9a-e13356c9dd5b"
      },
      "execution_count": 12,
      "outputs": [
        {
          "output_type": "execute_result",
          "data": {
            "text/plain": [
              "(18750, 100)"
            ]
          },
          "metadata": {},
          "execution_count": 12
        }
      ]
    },
    {
      "cell_type": "code",
      "source": [
        "train_seq[0]\n",
        "# 자른 이후의 데이터"
      ],
      "metadata": {
        "colab": {
          "base_uri": "https://localhost:8080/"
        },
        "id": "y8gZHPk9FF7B",
        "outputId": "3ce92535-6704-4181-bcf0-828dcd85366e"
      },
      "execution_count": 11,
      "outputs": [
        {
          "output_type": "execute_result",
          "data": {
            "text/plain": [
              "array([ 21, 115,   2,   4, 229, 115,   2,   2, 101, 109,  24,  60,   4,\n",
              "         2,   2,  12,  82,   5,   2,  39,   2,  23,   2,   2,   2,   2,\n",
              "         5,   2,   4, 192,  15,   2,   9,  38,   2,  11,   4,  22,   5,\n",
              "         9,  53,   2,   2,  74,  59,  47, 126,  77,   9,   6,   2,   8,\n",
              "        72,  13, 106,   2,  33, 222, 280,   6, 291,   5,  13,  43,   2,\n",
              "        12, 174,  14,   2,   2,  19,  61,   2, 291, 154,   2,   2,   5,\n",
              "        36,   2,  12,  17,  73,  12,  47, 142,  18,   2,  19,   6,   2,\n",
              "         5,   2,  25,   2,  19,   2,  11,   4, 130], dtype=int32)"
            ]
          },
          "metadata": {},
          "execution_count": 11
        }
      ]
    },
    {
      "cell_type": "code",
      "source": [
        "train_input[0][-10:]\n",
        "# 자르기 전 데이터\n",
        "# 뒷 부분이 같다."
      ],
      "metadata": {
        "colab": {
          "base_uri": "https://localhost:8080/"
        },
        "id": "znbJDSChFblP",
        "outputId": "fcf322e2-a84c-442f-c506-1fc9aa0b2e01"
      },
      "execution_count": 13,
      "outputs": [
        {
          "output_type": "execute_result",
          "data": {
            "text/plain": [
              "[34, 4, 107, 293, 156, 4, 2, 5, 2, 2]"
            ]
          },
          "metadata": {},
          "execution_count": 13
        }
      ]
    },
    {
      "cell_type": "code",
      "source": [
        "val_seq = pad_sequences(val_input, maxlen=100)"
      ],
      "metadata": {
        "id": "oXU1gcz0Fjlb"
      },
      "execution_count": 8,
      "outputs": []
    },
    {
      "cell_type": "code",
      "source": [
        "val_seq.shape\n",
        "# 검증용 데이터까지 준비 완료"
      ],
      "metadata": {
        "colab": {
          "base_uri": "https://localhost:8080/"
        },
        "id": "DV-uP3p-GPV8",
        "outputId": "9c8538d7-9793-47ce-83a6-d49b724d79d5"
      },
      "execution_count": 14,
      "outputs": [
        {
          "output_type": "execute_result",
          "data": {
            "text/plain": [
              "(6250, 100)"
            ]
          },
          "metadata": {},
          "execution_count": 14
        }
      ]
    },
    {
      "cell_type": "code",
      "source": [
        "# 깡통 모델 만들기\n",
        "# 인스턴스화\n",
        "model = keras.Sequential()\n",
        "model.add(keras.layers.SimpleRNN(8, input_shape=(100, 300)))\n",
        "# meaning: 100개의 토큰을 가진 데이터 하나가, 300개의 단어로 이루어진 숫자야\n",
        "model.add(keras.layers.Dense(1, activation='sigmoid'))\n",
        "# 0 혹은 1의 이진 분류를 위해\n",
        "# Dense(1)을 부여함."
      ],
      "metadata": {
        "colab": {
          "base_uri": "https://localhost:8080/"
        },
        "id": "jN4tU78GGWau",
        "outputId": "f735edb3-6f90-4caf-ea45-d7a36da7c7b1"
      },
      "execution_count": 27,
      "outputs": [
        {
          "output_type": "stream",
          "name": "stderr",
          "text": [
            "/usr/local/lib/python3.11/dist-packages/keras/src/layers/rnn/rnn.py:200: UserWarning: Do not pass an `input_shape`/`input_dim` argument to a layer. When using Sequential models, prefer using an `Input(shape)` object as the first layer in the model instead.\n",
            "  super().__init__(**kwargs)\n"
          ]
        }
      ]
    },
    {
      "cell_type": "code",
      "source": [
        "# 위 코드를 통해 모델이 성공적으로 만들어졌다.\n",
        "# 원핫인코딩 적용하기\n",
        "train_oh = keras.utils.to_categorical(train_seq)"
      ],
      "metadata": {
        "id": "ULEHKWwdHCmN"
      },
      "execution_count": 16,
      "outputs": []
    },
    {
      "cell_type": "code",
      "source": [
        "train_oh.shape\n",
        "# 단어 하나를 표현하기 위해서 300개 짜리 칸을 만듦."
      ],
      "metadata": {
        "colab": {
          "base_uri": "https://localhost:8080/"
        },
        "id": "u7_9X81-I44q",
        "outputId": "599a6edb-0037-4bee-8bb1-ccbb899783cb"
      },
      "execution_count": 17,
      "outputs": [
        {
          "output_type": "execute_result",
          "data": {
            "text/plain": [
              "(18750, 100, 300)"
            ]
          },
          "metadata": {},
          "execution_count": 17
        }
      ]
    },
    {
      "cell_type": "code",
      "source": [
        "train_oh[0][0]\n",
        " # 300개 짜리 칸에서 세번째만 1: 3을 의미\n",
        "\n",
        " # 숫자간의 우위가 없다.\n",
        " # 1차원이었던 숫자 데이터를 2차원으로 바꿔준 것."
      ],
      "metadata": {
        "colab": {
          "base_uri": "https://localhost:8080/"
        },
        "id": "cIF5zMAoI-hD",
        "outputId": "ba9e86c3-ece1-4c98-f07e-40ecc7130c97"
      },
      "execution_count": 18,
      "outputs": [
        {
          "output_type": "execute_result",
          "data": {
            "text/plain": [
              "array([0., 0., 0., 0., 0., 0., 0., 0., 0., 0., 0., 0., 0., 0., 0., 0., 0.,\n",
              "       0., 0., 0., 0., 1., 0., 0., 0., 0., 0., 0., 0., 0., 0., 0., 0., 0.,\n",
              "       0., 0., 0., 0., 0., 0., 0., 0., 0., 0., 0., 0., 0., 0., 0., 0., 0.,\n",
              "       0., 0., 0., 0., 0., 0., 0., 0., 0., 0., 0., 0., 0., 0., 0., 0., 0.,\n",
              "       0., 0., 0., 0., 0., 0., 0., 0., 0., 0., 0., 0., 0., 0., 0., 0., 0.,\n",
              "       0., 0., 0., 0., 0., 0., 0., 0., 0., 0., 0., 0., 0., 0., 0., 0., 0.,\n",
              "       0., 0., 0., 0., 0., 0., 0., 0., 0., 0., 0., 0., 0., 0., 0., 0., 0.,\n",
              "       0., 0., 0., 0., 0., 0., 0., 0., 0., 0., 0., 0., 0., 0., 0., 0., 0.,\n",
              "       0., 0., 0., 0., 0., 0., 0., 0., 0., 0., 0., 0., 0., 0., 0., 0., 0.,\n",
              "       0., 0., 0., 0., 0., 0., 0., 0., 0., 0., 0., 0., 0., 0., 0., 0., 0.,\n",
              "       0., 0., 0., 0., 0., 0., 0., 0., 0., 0., 0., 0., 0., 0., 0., 0., 0.,\n",
              "       0., 0., 0., 0., 0., 0., 0., 0., 0., 0., 0., 0., 0., 0., 0., 0., 0.,\n",
              "       0., 0., 0., 0., 0., 0., 0., 0., 0., 0., 0., 0., 0., 0., 0., 0., 0.,\n",
              "       0., 0., 0., 0., 0., 0., 0., 0., 0., 0., 0., 0., 0., 0., 0., 0., 0.,\n",
              "       0., 0., 0., 0., 0., 0., 0., 0., 0., 0., 0., 0., 0., 0., 0., 0., 0.,\n",
              "       0., 0., 0., 0., 0., 0., 0., 0., 0., 0., 0., 0., 0., 0., 0., 0., 0.,\n",
              "       0., 0., 0., 0., 0., 0., 0., 0., 0., 0., 0., 0., 0., 0., 0., 0., 0.,\n",
              "       0., 0., 0., 0., 0., 0., 0., 0., 0., 0., 0.])"
            ]
          },
          "metadata": {},
          "execution_count": 18
        }
      ]
    },
    {
      "cell_type": "code",
      "source": [
        "# val데이터도 동일하게 원핫인코딩을 해줘야함.\n",
        "val_oh = keras.utils.to_categorical(val_seq)"
      ],
      "metadata": {
        "id": "cgCG3mzNJDzf"
      },
      "execution_count": 19,
      "outputs": []
    },
    {
      "cell_type": "code",
      "source": [
        "# 데이터 준비가 완료 되었다."
      ],
      "metadata": {
        "id": "XROvoqKZKR11"
      },
      "execution_count": 20,
      "outputs": []
    },
    {
      "cell_type": "code",
      "source": [
        " # 만든 모델을 확인하자.\n",
        " model.summary()"
      ],
      "metadata": {
        "colab": {
          "base_uri": "https://localhost:8080/",
          "height": 193
        },
        "id": "WzdFpqQtKUfS",
        "outputId": "6afb0f2b-fc7b-4159-fad4-27d162266de8"
      },
      "execution_count": 21,
      "outputs": [
        {
          "output_type": "display_data",
          "data": {
            "text/plain": [
              "\u001b[1mModel: \"sequential\"\u001b[0m\n"
            ],
            "text/html": [
              "<pre style=\"white-space:pre;overflow-x:auto;line-height:normal;font-family:Menlo,'DejaVu Sans Mono',consolas,'Courier New',monospace\"><span style=\"font-weight: bold\">Model: \"sequential\"</span>\n",
              "</pre>\n"
            ]
          },
          "metadata": {}
        },
        {
          "output_type": "display_data",
          "data": {
            "text/plain": [
              "┏━━━━━━━━━━━━━━━━━━━━━━━━━━━━━━━━━━━━━━┳━━━━━━━━━━━━━━━━━━━━━━━━━━━━━┳━━━━━━━━━━━━━━━━━┓\n",
              "┃\u001b[1m \u001b[0m\u001b[1mLayer (type)                        \u001b[0m\u001b[1m \u001b[0m┃\u001b[1m \u001b[0m\u001b[1mOutput Shape               \u001b[0m\u001b[1m \u001b[0m┃\u001b[1m \u001b[0m\u001b[1m        Param #\u001b[0m\u001b[1m \u001b[0m┃\n",
              "┡━━━━━━━━━━━━━━━━━━━━━━━━━━━━━━━━━━━━━━╇━━━━━━━━━━━━━━━━━━━━━━━━━━━━━╇━━━━━━━━━━━━━━━━━┩\n",
              "│ simple_rnn (\u001b[38;5;33mSimpleRNN\u001b[0m)               │ (\u001b[38;5;45mNone\u001b[0m, \u001b[38;5;34m8\u001b[0m)                   │           \u001b[38;5;34m2,472\u001b[0m │\n",
              "├──────────────────────────────────────┼─────────────────────────────┼─────────────────┤\n",
              "│ dense (\u001b[38;5;33mDense\u001b[0m)                        │ (\u001b[38;5;45mNone\u001b[0m, \u001b[38;5;34m1\u001b[0m)                   │               \u001b[38;5;34m9\u001b[0m │\n",
              "└──────────────────────────────────────┴─────────────────────────────┴─────────────────┘\n"
            ],
            "text/html": [
              "<pre style=\"white-space:pre;overflow-x:auto;line-height:normal;font-family:Menlo,'DejaVu Sans Mono',consolas,'Courier New',monospace\">┏━━━━━━━━━━━━━━━━━━━━━━━━━━━━━━━━━━━━━━┳━━━━━━━━━━━━━━━━━━━━━━━━━━━━━┳━━━━━━━━━━━━━━━━━┓\n",
              "┃<span style=\"font-weight: bold\"> Layer (type)                         </span>┃<span style=\"font-weight: bold\"> Output Shape                </span>┃<span style=\"font-weight: bold\">         Param # </span>┃\n",
              "┡━━━━━━━━━━━━━━━━━━━━━━━━━━━━━━━━━━━━━━╇━━━━━━━━━━━━━━━━━━━━━━━━━━━━━╇━━━━━━━━━━━━━━━━━┩\n",
              "│ simple_rnn (<span style=\"color: #0087ff; text-decoration-color: #0087ff\">SimpleRNN</span>)               │ (<span style=\"color: #00d7ff; text-decoration-color: #00d7ff\">None</span>, <span style=\"color: #00af00; text-decoration-color: #00af00\">8</span>)                   │           <span style=\"color: #00af00; text-decoration-color: #00af00\">2,472</span> │\n",
              "├──────────────────────────────────────┼─────────────────────────────┼─────────────────┤\n",
              "│ dense (<span style=\"color: #0087ff; text-decoration-color: #0087ff\">Dense</span>)                        │ (<span style=\"color: #00d7ff; text-decoration-color: #00d7ff\">None</span>, <span style=\"color: #00af00; text-decoration-color: #00af00\">1</span>)                   │               <span style=\"color: #00af00; text-decoration-color: #00af00\">9</span> │\n",
              "└──────────────────────────────────────┴─────────────────────────────┴─────────────────┘\n",
              "</pre>\n"
            ]
          },
          "metadata": {}
        },
        {
          "output_type": "display_data",
          "data": {
            "text/plain": [
              "\u001b[1m Total params: \u001b[0m\u001b[38;5;34m2,481\u001b[0m (9.69 KB)\n"
            ],
            "text/html": [
              "<pre style=\"white-space:pre;overflow-x:auto;line-height:normal;font-family:Menlo,'DejaVu Sans Mono',consolas,'Courier New',monospace\"><span style=\"font-weight: bold\"> Total params: </span><span style=\"color: #00af00; text-decoration-color: #00af00\">2,481</span> (9.69 KB)\n",
              "</pre>\n"
            ]
          },
          "metadata": {}
        },
        {
          "output_type": "display_data",
          "data": {
            "text/plain": [
              "\u001b[1m Trainable params: \u001b[0m\u001b[38;5;34m2,481\u001b[0m (9.69 KB)\n"
            ],
            "text/html": [
              "<pre style=\"white-space:pre;overflow-x:auto;line-height:normal;font-family:Menlo,'DejaVu Sans Mono',consolas,'Courier New',monospace\"><span style=\"font-weight: bold\"> Trainable params: </span><span style=\"color: #00af00; text-decoration-color: #00af00\">2,481</span> (9.69 KB)\n",
              "</pre>\n"
            ]
          },
          "metadata": {}
        },
        {
          "output_type": "display_data",
          "data": {
            "text/plain": [
              "\u001b[1m Non-trainable params: \u001b[0m\u001b[38;5;34m0\u001b[0m (0.00 B)\n"
            ],
            "text/html": [
              "<pre style=\"white-space:pre;overflow-x:auto;line-height:normal;font-family:Menlo,'DejaVu Sans Mono',consolas,'Courier New',monospace\"><span style=\"font-weight: bold\"> Non-trainable params: </span><span style=\"color: #00af00; text-decoration-color: #00af00\">0</span> (0.00 B)\n",
              "</pre>\n"
            ]
          },
          "metadata": {}
        }
      ]
    },
    {
      "cell_type": "code",
      "source": [
        "# 만든 모델을 사용해서\n",
        "# 학습을 시키자. (p.512)\n",
        "# optimizer의 값을 조금 조정해서 학습을 시키겠다. (책에서 이 값을 조정했을 때, 성능이 더 좋더라라고 조언을 해주었기에)\n",
        "# rmsprop = keras.optimizers.RMSprop(learning_rate=1e-4)\n",
        "# model.compile(\n",
        "#     optimizer=rmsprop,\n",
        "#     loss='binary_crossentropy',\n",
        "#     metrics=['accuracy']\n",
        "# ) # 이진분류이기 때문에 loss 함수를 binary로 적었음.\n",
        "# es = keras.callbacks.EarlyStopping(patience=3)\n",
        "# result = model.fit(\n",
        "#     train_oh,\n",
        "#     train_target,\n",
        "#     epochs=50,\n",
        "#     validation_data=(val_oh, val_target),\n",
        "#     callbacks=[es])"
      ],
      "metadata": {
        "id": "0miCHmK3KWS1"
      },
      "execution_count": 22,
      "outputs": []
    },
    {
      "cell_type": "markdown",
      "source": [
        "지금 RAM이 부족해서 위 코드를 실행 하지 못함.\n",
        ">\n",
        "=> 따라서 코드 결과는 책에서 확인하고 넘어가는 걸로 (p.514)"
      ],
      "metadata": {
        "id": "-S8UaAJreass"
      }
    },
    {
      "cell_type": "markdown",
      "source": [
        "#### 단어 임베딩을 사용하기 (p. 514)\n",
        "> 순환 신경망에서 텍스트를 처리할 때 즐겨 사용하는 방법\n",
        ">> 각 단어를 고정된 크기의 실수 벡터로 바꾸어 줌.\n",
        ": 벡터는 원-핫 인코딩된 벡터보다 훨씬 의미 있는 값으로 채워져 있기 때문에 자연어 처리에서 더 좋은 성능을 냄.\n",
        "\n",
        ": `장점` - 입력으로 정수 데이터를 받는다. (연산이 가능하다.)\n",
        "\n",
        ": `임베딩`은 보통 다 이미 학습 (구현) 이 되어 있다. (모델별로 수치는 다르나)"
      ],
      "metadata": {
        "id": "LVxgWjDnem3i"
      }
    },
    {
      "cell_type": "code",
      "source": [
        "# 새로운 모델 만들기\n",
        "model2 = keras.Sequential()\n",
        "model2.add(keras.layers.Embedding(300, 16, input_length=100))\n",
        "model2.add(keras.layers.SimpleRNN(8))\n",
        "model2.add(keras.layers.Dense(1, activation = 'sigmoid'))"
      ],
      "metadata": {
        "colab": {
          "base_uri": "https://localhost:8080/"
        },
        "id": "MbsEzYh3elds",
        "outputId": "d5b0d825-9fdf-47a2-8035-df2ec36d7053"
      },
      "execution_count": 9,
      "outputs": [
        {
          "output_type": "stream",
          "name": "stderr",
          "text": [
            "/usr/local/lib/python3.11/dist-packages/keras/src/layers/core/embedding.py:90: UserWarning: Argument `input_length` is deprecated. Just remove it.\n",
            "  warnings.warn(\n"
          ]
        }
      ]
    },
    {
      "cell_type": "code",
      "source": [
        "print(train_seq.shape, val_seq.shape)"
      ],
      "metadata": {
        "colab": {
          "base_uri": "https://localhost:8080/"
        },
        "id": "_9w5vj2IjTFy",
        "outputId": "d561e4c9-7577-4b26-b4a8-1c8aa55caac7"
      },
      "execution_count": 41,
      "outputs": [
        {
          "output_type": "stream",
          "name": "stdout",
          "text": [
            "(18750, 100) (6250, 100)\n"
          ]
        }
      ]
    },
    {
      "cell_type": "code",
      "source": [
        "model2.compile(\n",
        "    loss='binary_crossentropy',\n",
        "    optimizer='adam',\n",
        "    metrics=['accuracy']\n",
        ")\n",
        "es = keras.callbacks.EarlyStopping(patience=2)\n",
        "result = model2.fit(\n",
        "    train_seq,\n",
        "    train_target,\n",
        "    epochs=100,\n",
        "    validation_data=(val_seq, val_target),\n",
        "    callbacks=[es]\n",
        ")"
      ],
      "metadata": {
        "colab": {
          "base_uri": "https://localhost:8080/"
        },
        "id": "tLT3BUQjgm2I",
        "outputId": "cef22755-6cfd-4528-f699-7114d16f6d26"
      },
      "execution_count": 14,
      "outputs": [
        {
          "output_type": "stream",
          "name": "stdout",
          "text": [
            "Epoch 1/100\n",
            "\u001b[1m586/586\u001b[0m \u001b[32m━━━━━━━━━━━━━━━━━━━━\u001b[0m\u001b[37m\u001b[0m \u001b[1m10s\u001b[0m 13ms/step - accuracy: 0.7029 - loss: 0.5861 - val_accuracy: 0.6453 - val_loss: 0.6366\n",
            "Epoch 2/100\n",
            "\u001b[1m586/586\u001b[0m \u001b[32m━━━━━━━━━━━━━━━━━━━━\u001b[0m\u001b[37m\u001b[0m \u001b[1m8s\u001b[0m 10ms/step - accuracy: 0.7182 - loss: 0.5738 - val_accuracy: 0.6973 - val_loss: 0.5946\n",
            "Epoch 3/100\n",
            "\u001b[1m586/586\u001b[0m \u001b[32m━━━━━━━━━━━━━━━━━━━━\u001b[0m\u001b[37m\u001b[0m \u001b[1m10s\u001b[0m 9ms/step - accuracy: 0.7386 - loss: 0.5444 - val_accuracy: 0.6845 - val_loss: 0.5896\n",
            "Epoch 4/100\n",
            "\u001b[1m586/586\u001b[0m \u001b[32m━━━━━━━━━━━━━━━━━━━━\u001b[0m\u001b[37m\u001b[0m \u001b[1m10s\u001b[0m 9ms/step - accuracy: 0.7354 - loss: 0.5412 - val_accuracy: 0.6984 - val_loss: 0.6155\n",
            "Epoch 5/100\n",
            "\u001b[1m586/586\u001b[0m \u001b[32m━━━━━━━━━━━━━━━━━━━━\u001b[0m\u001b[37m\u001b[0m \u001b[1m6s\u001b[0m 10ms/step - accuracy: 0.7126 - loss: 0.5732 - val_accuracy: 0.7088 - val_loss: 0.5747\n",
            "Epoch 6/100\n",
            "\u001b[1m586/586\u001b[0m \u001b[32m━━━━━━━━━━━━━━━━━━━━\u001b[0m\u001b[37m\u001b[0m \u001b[1m6s\u001b[0m 10ms/step - accuracy: 0.7401 - loss: 0.5355 - val_accuracy: 0.7224 - val_loss: 0.5645\n",
            "Epoch 7/100\n",
            "\u001b[1m586/586\u001b[0m \u001b[32m━━━━━━━━━━━━━━━━━━━━\u001b[0m\u001b[37m\u001b[0m \u001b[1m11s\u001b[0m 10ms/step - accuracy: 0.7368 - loss: 0.5374 - val_accuracy: 0.7128 - val_loss: 0.5654\n",
            "Epoch 8/100\n",
            "\u001b[1m586/586\u001b[0m \u001b[32m━━━━━━━━━━━━━━━━━━━━\u001b[0m\u001b[37m\u001b[0m \u001b[1m6s\u001b[0m 10ms/step - accuracy: 0.7264 - loss: 0.5403 - val_accuracy: 0.7064 - val_loss: 0.5751\n"
          ]
        }
      ]
    },
    {
      "cell_type": "markdown",
      "source": [
        "## 09-3. LSTM과 GRU 셀\n",
        "> (p.526)\n",
        "\n",
        "> 코드 따로 치지 않고 교재 내용으로 살펴봄.\n",
        "\n",
        "### 🔹 GRU(Gated Recurrent Unit) & LSTM(Long Short-Term Memory)\n",
        "\n",
        "GRU와 LSTM은 **순환 신경망(RNN)의 단점**을 보완한 **개선된 RNN 모델**이다.  \n",
        "특히, **장기 의존성 문제**(Long-Term Dependency)와 **기울기 소실 문제**(Vanishing Gradient)를 해결하기 위해 개발되었다.\n",
        "\n",
        "---\n",
        "\n",
        "### 🔹  LSTM (Long Short-Term Memory)\n",
        "\n",
        "LSTM은 **장기 메모리(Long-Term Memory)와 단기 메모리(Short-Term Memory)**를 조절하는 **3개의 게이트(Gate)**를 가지고 있다.\n",
        "\n",
        "#### 🔸 LSTM 구조\n",
        "- **입력 게이트 (Input Gate)**: 새로운 정보를 얼마나 업데이트할지 결정  \n",
        "- **망각 게이트 (Forget Gate)**: 기존 정보를 얼마나 버릴지 결정  \n",
        "- **출력 게이트 (Output Gate)**: 최종적으로 어떤 정보를 출력할지 결정  \n",
        "\n",
        "#### 📌 LSTM의 특징  \n",
        "- ✅ **장기 의존성 문제 해결** → 중요한 정보를 오랫동안 유지 가능  \n",
        "- ✅ **복잡한 패턴 학습 가능**  \n",
        "- ❌ **연산량이 많고 속도가 느림**  \n",
        "\n",
        "---\n",
        "\n",
        "### 🔹  GRU (Gated Recurrent Unit)\n",
        "\n",
        "GRU는 **LSTM보다 간단한 구조**로, 연산량을 줄이면서도 **장기 의존성 문제**를 해결한 모델이다.\n",
        "\n",
        "#### 🔸 GRU 구조\n",
        "- **업데이트 게이트 (Update Gate)**: 새로운 정보를 업데이트할지 결정  \n",
        "- **리셋 게이트 (Reset Gate)**: 과거 정보를 얼마나 유지할지 결정  \n",
        "\n",
        "#### 📌 GRU의 특징  \n",
        "- ✅ **LSTM보다 연산량이 적어 속도가 빠름**  \n",
        "- ✅ **메모리 사용량이 적음**  \n",
        "- ❌ **LSTM보다 세밀한 제어가 어려울 수 있음**  \n",
        "\n",
        "---\n",
        "\n",
        "#### 🔹  LSTM vs GRU 비교\n",
        "\n",
        "| 모델 | 특징 | 장점 | 단점 |\n",
        "|------|------|------|------|\n",
        "| **LSTM** | 3개의 게이트 (입력, 망각, 출력) 사용 | 장기 의존성 문제 해결, 복잡한 패턴 학습 가능 | 연산량 많고 속도 느림 |\n",
        "| **GRU** | 2개의 게이트 (업데이트, 리셋) 사용 | 연산량 적고 학습 속도 빠름, 메모리 절약 | 세밀한 조절이 어려울 수 있음 |\n",
        "\n",
        "---\n",
        "\n",
        "#### 🔹  LSTM과 GRU 선택 기준\n",
        "\n",
        "- **빠른 학습 & 적은 메모리 사용** → **GRU**  \n",
        "- **정확도 우선 & 장기 기억 필요** → **LSTM**  \n"
      ],
      "metadata": {
        "id": "eC1dgvYokKuK"
      }
    }
  ]
}