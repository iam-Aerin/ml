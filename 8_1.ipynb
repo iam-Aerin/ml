{
  "nbformat": 4,
  "nbformat_minor": 0,
  "metadata": {
    "colab": {
      "provenance": []
    },
    "kernelspec": {
      "name": "python3",
      "display_name": "Python 3"
    },
    "language_info": {
      "name": "python"
    }
  },
  "cells": [
    {
      "cell_type": "markdown",
      "source": [
        "# 08-1. 합성곱 `CNN` 신경망의 구성 요소\n",
        "> p.422\n",
        "- Convolution\n",
        "\n",
        "합성곱 신경망의 목적\n",
        "> `이미지`를 학습 할 땐, 서로 비슷한 친구끼리 묶어줘야 인식률이 더 정확하다.\n",
        ">\n",
        "> 비슷한 위치의 친구들이 유의미한 정보를 공유할 (확률이 높을) 것이기 때문에\n",
        "\n",
        "특성 맵 (feature map) : 합성곱 계산을 통해 얻은 출력\n",
        "\n",
        "패딩 (padding) : 입력 배열의 주위를 가상의 원소로 채우는 것 - 일정한 비율로 학습에 참여 할 수 있게끔 하는 것"
      ],
      "metadata": {
        "id": "4peqtAloo58y"
      }
    }
  ]
}