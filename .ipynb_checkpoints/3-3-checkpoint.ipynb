{
 "cells": [
  {
   "cell_type": "markdown",
   "id": "628de5d5-116d-4653-8e41-ca4503bf41e0",
   "metadata": {},
   "source": [
    "# 3-3 특성공학과 규제 (p.150)\n",
    "> 선형 회귀는 특성이 많을 수록 더 정확한 모델\n",
    "> - 여러 특성을 사용한 다중 회귀에 대해 배우고 사이킷런의 여러 도구를  사용해 봅니다. 복잡한 모델의 과대적합을 막기 위한 릿지 라쏘회귀도 배움. "
   ]
  },
  {
   "cell_type": "markdown",
   "id": "0c0f0b3d-5d3c-4c42-a198-915b5ccef77e",
   "metadata": {},
   "source": [
    "### 다중 회귀 \n",
    "- 서로 다른 특성 여러가지를 같이 사용하는 것\n",
    "- e.g. 생선의 길이, 무게, 두께 특성을 데이터로 => 선형 회귀가 평면을 학습한다. "
   ]
  },
  {
   "cell_type": "markdown",
   "id": "5b52bdbc-d214-49fd-a412-5a07315cbacf",
   "metadata": {},
   "source": [
    "- 기존의 특성을 사용해 새로운 특성을 뽑아 내는 것을 `특성공학` 이라고 한다."
   ]
  },
  {
   "cell_type": "markdown",
   "id": "5a1653fa-051e-4725-bbf1-296b612c5db0",
   "metadata": {},
   "source": [
    "---"
   ]
  },
  {
   "cell_type": "code",
   "execution_count": 30,
   "id": "49771c8b-ebdf-423a-a4a9-f5a71c9a2e59",
   "metadata": {},
   "outputs": [
    {
     "data": {
      "text/html": [
       "<div>\n",
       "<style scoped>\n",
       "    .dataframe tbody tr th:only-of-type {\n",
       "        vertical-align: middle;\n",
       "    }\n",
       "\n",
       "    .dataframe tbody tr th {\n",
       "        vertical-align: top;\n",
       "    }\n",
       "\n",
       "    .dataframe thead th {\n",
       "        text-align: right;\n",
       "    }\n",
       "</style>\n",
       "<table border=\"1\" class=\"dataframe\">\n",
       "  <thead>\n",
       "    <tr style=\"text-align: right;\">\n",
       "      <th></th>\n",
       "      <th>Species</th>\n",
       "      <th>Weight</th>\n",
       "      <th>Length1</th>\n",
       "      <th>Length2</th>\n",
       "      <th>Length3</th>\n",
       "      <th>Height</th>\n",
       "      <th>Width</th>\n",
       "    </tr>\n",
       "  </thead>\n",
       "  <tbody>\n",
       "    <tr>\n",
       "      <th>72</th>\n",
       "      <td>Perch</td>\n",
       "      <td>5.9</td>\n",
       "      <td>7.5</td>\n",
       "      <td>8.4</td>\n",
       "      <td>8.8</td>\n",
       "      <td>2.1120</td>\n",
       "      <td>1.4080</td>\n",
       "    </tr>\n",
       "    <tr>\n",
       "      <th>73</th>\n",
       "      <td>Perch</td>\n",
       "      <td>32.0</td>\n",
       "      <td>12.5</td>\n",
       "      <td>13.7</td>\n",
       "      <td>14.7</td>\n",
       "      <td>3.5280</td>\n",
       "      <td>1.9992</td>\n",
       "    </tr>\n",
       "    <tr>\n",
       "      <th>74</th>\n",
       "      <td>Perch</td>\n",
       "      <td>40.0</td>\n",
       "      <td>13.8</td>\n",
       "      <td>15.0</td>\n",
       "      <td>16.0</td>\n",
       "      <td>3.8240</td>\n",
       "      <td>2.4320</td>\n",
       "    </tr>\n",
       "    <tr>\n",
       "      <th>75</th>\n",
       "      <td>Perch</td>\n",
       "      <td>51.5</td>\n",
       "      <td>15.0</td>\n",
       "      <td>16.2</td>\n",
       "      <td>17.2</td>\n",
       "      <td>4.5924</td>\n",
       "      <td>2.6316</td>\n",
       "    </tr>\n",
       "    <tr>\n",
       "      <th>76</th>\n",
       "      <td>Perch</td>\n",
       "      <td>70.0</td>\n",
       "      <td>15.7</td>\n",
       "      <td>17.4</td>\n",
       "      <td>18.5</td>\n",
       "      <td>4.5880</td>\n",
       "      <td>2.9415</td>\n",
       "    </tr>\n",
       "  </tbody>\n",
       "</table>\n",
       "</div>"
      ],
      "text/plain": [
       "   Species  Weight  Length1  Length2  Length3  Height   Width\n",
       "72   Perch     5.9      7.5      8.4      8.8  2.1120  1.4080\n",
       "73   Perch    32.0     12.5     13.7     14.7  3.5280  1.9992\n",
       "74   Perch    40.0     13.8     15.0     16.0  3.8240  2.4320\n",
       "75   Perch    51.5     15.0     16.2     17.2  4.5924  2.6316\n",
       "76   Perch    70.0     15.7     17.4     18.5  4.5880  2.9415"
      ]
     },
     "execution_count": 30,
     "metadata": {},
     "output_type": "execute_result"
    }
   ],
   "source": [
    "import pandas as pd\n",
    "df = pd.read_csv('data/Fish.csv')\n",
    "perch_df = df.loc[df['Species'] == 'Perch']\n",
    "perch_df.head()"
   ]
  },
  {
   "cell_type": "code",
   "execution_count": 31,
   "id": "6141a569-1eca-4dcc-a0bd-915e87985b88",
   "metadata": {},
   "outputs": [],
   "source": [
    "# 우리의 목표는 무게를 활용해 다른 특성을 알아내는 것 \n",
    "# 사용할 데이터는 lenght2, height, width\n",
    "\n",
    "perch_full = perch_df[['Length2', 'Height', 'Width']]\n",
    "perch_weight = perch_df[['Weight']]"
   ]
  },
  {
   "cell_type": "code",
   "execution_count": 32,
   "id": "92c0189c-503e-4c09-93db-b09567639f14",
   "metadata": {},
   "outputs": [],
   "source": [
    "# 학습용 데이터와 채점용 데이터로 분류하기\n",
    "from sklearn.model_selection import train_test_split\n",
    "train_input, test_input, train_target, test_target = \\\n",
    "train_test_split(perch_full, perch_weight)"
   ]
  },
  {
   "cell_type": "code",
   "execution_count": 33,
   "id": "68714053-0b1c-4ccf-b368-21e8d79e5353",
   "metadata": {},
   "outputs": [
    {
     "data": {
      "text/plain": [
       "array([[ 3.,  5.,  9., 15., 25.]])"
      ]
     },
     "execution_count": 33,
     "metadata": {},
     "output_type": "execute_result"
    }
   ],
   "source": [
    "# 이 데이터를 바탕으로 sklearn이 가지고 있는 함수 사용하기\n",
    "# 사이킷런의 변환기 (함수)\n",
    "\n",
    "from sklearn.preprocessing import PolynomialFeatures\n",
    "\n",
    "poly = PolynomialFeatures(include_bias=False)\n",
    "#option 값으로 괄호 안에 (include_bias=False) 를 넣으면 이 값을 출력시 array에서 1이 제외된다. \n",
    "poly.fit([[3, 5]])\n",
    "poly.transform([[3, 5]])\n",
    "\n",
    "# PolynomialFeatures 함수는 \n",
    "# => 내가 특성을 주면 그 특성으로 만들 수 있는 조합 (경우의 수)을 만들어냄\n"
   ]
  },
  {
   "cell_type": "code",
   "execution_count": 34,
   "id": "2659a111-c199-4545-a268-727d2ba71365",
   "metadata": {},
   "outputs": [
    {
     "data": {
      "text/plain": [
       "array([[  43.        ,   12.5125    ,    7.4165    , 1849.        ,\n",
       "         538.0375    ,  318.9095    ,  156.56265625,   92.79895625,\n",
       "          55.00447225],\n",
       "       [  15.        ,    3.824     ,    2.432     ,  225.        ,\n",
       "          57.36      ,   36.48      ,   14.622976  ,    9.299968  ,\n",
       "           5.914624  ],\n",
       "       [  39.        ,   11.1366    ,    7.4934    , 1521.        ,\n",
       "         434.3274    ,  292.2426    ,  124.02385956,   83.45099844,\n",
       "          56.15104356],\n",
       "       [  32.8       ,   10.03      ,    6.018     , 1075.84      ,\n",
       "         328.984     ,  197.3904    ,  100.6009    ,   60.36054   ,\n",
       "          36.216324  ],\n",
       "       [  42.        ,   12.8002    ,    6.8684    , 1764.        ,\n",
       "         537.6084    ,  288.4728    ,  163.84512004,   87.91689368,\n",
       "          47.17491856]])"
      ]
     },
     "execution_count": 34,
     "metadata": {},
     "output_type": "execute_result"
    }
   ],
   "source": [
    "poly = PolynomialFeatures(include_bias = False)\n",
    "poly.fit(train_input)\n",
    "# 우리가 가지고 있는 농어의 길이, 높이, 두께를 특성공학으로 바꾸기\n",
    "\n",
    "train_poly = poly.transform(train_input)\n",
    "train_poly[:5]\n",
    "# 보기 좋게 앞에 5개만 잘라서 봐보자\n"
   ]
  },
  {
   "cell_type": "code",
   "execution_count": 35,
   "id": "d26ecfe6-b837-4947-bc79-396ed401b61a",
   "metadata": {},
   "outputs": [
    {
     "data": {
      "text/plain": [
       "(42, 9)"
      ]
     },
     "execution_count": 35,
     "metadata": {},
     "output_type": "execute_result"
    }
   ],
   "source": [
    "train_poly.shape\n",
    "# 특성공학을 통해 나온 새로운 특성들의 조합 (경우의 수)\n",
    "# (도미데이터의 개수, 특성공학으로 만들어진 조합의 개수)"
   ]
  },
  {
   "cell_type": "code",
   "execution_count": 36,
   "id": "083b8b8a-564a-4abe-9335-3c8d7bb43cd1",
   "metadata": {},
   "outputs": [
    {
     "data": {
      "text/plain": [
       "array(['Length2', 'Height', 'Width', 'Length2^2', 'Length2 Height',\n",
       "       'Length2 Width', 'Height^2', 'Height Width', 'Width^2'],\n",
       "      dtype=object)"
      ]
     },
     "execution_count": 36,
     "metadata": {},
     "output_type": "execute_result"
    }
   ],
   "source": [
    "poly.get_feature_names_out()"
   ]
  },
  {
   "cell_type": "code",
   "execution_count": 43,
   "id": "a5a9b312-1f37-494f-9e3e-c6e81887f4fe",
   "metadata": {},
   "outputs": [
    {
     "data": {
      "text/plain": [
       "0.9930801596540921"
      ]
     },
     "execution_count": 43,
     "metadata": {},
     "output_type": "execute_result"
    }
   ],
   "source": [
    "from sklearn.linear_model import LinearRegression\n",
    "\n",
    "lr = LinearRegression()\n",
    "\n",
    "lr.fit(train_poly, train_target)\n",
    "lr.score(train_poly, train_target)"
   ]
  },
  {
   "cell_type": "code",
   "execution_count": 44,
   "id": "ab39d2ce-7728-4ba9-9036-cf86945ce0bf",
   "metadata": {},
   "outputs": [],
   "source": [
    "test_poly = poly.transform(test_input)"
   ]
  },
  {
   "cell_type": "code",
   "execution_count": 45,
   "id": "758ef036-c29b-4829-aadc-bd28a17bcfcc",
   "metadata": {},
   "outputs": [
    {
     "data": {
      "text/plain": [
       "0.9284050206986952"
      ]
     },
     "execution_count": 45,
     "metadata": {},
     "output_type": "execute_result"
    }
   ],
   "source": [
    "lr.score(test_poly, test_target)"
   ]
  }
 ],
 "metadata": {
  "kernelspec": {
   "display_name": "Python 3 (ipykernel)",
   "language": "python",
   "name": "python3"
  },
  "language_info": {
   "codemirror_mode": {
    "name": "ipython",
    "version": 3
   },
   "file_extension": ".py",
   "mimetype": "text/x-python",
   "name": "python",
   "nbconvert_exporter": "python",
   "pygments_lexer": "ipython3",
   "version": "3.13.2"
  }
 },
 "nbformat": 4,
 "nbformat_minor": 5
}
