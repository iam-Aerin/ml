{
  "nbformat": 4,
  "nbformat_minor": 0,
  "metadata": {
    "colab": {
      "provenance": [],
      "toc_visible": true
    },
    "kernelspec": {
      "name": "python3",
      "display_name": "Python 3"
    },
    "language_info": {
      "name": "python"
    }
  },
  "cells": [
    {
      "cell_type": "markdown",
      "source": [
        "# Chapter 7. 딥러닝\n",
        "# 07-1. 인공 신경망 (p.340)"
      ],
      "metadata": {
        "id": "vqvrC6lcjHYv"
      }
    },
    {
      "cell_type": "code",
      "execution_count": null,
      "metadata": {
        "id": "pMEGQei1i5d_"
      },
      "outputs": [],
      "source": [
        "from tensorflow import keras\n",
        "# tensorflow 사용"
      ]
    },
    {
      "cell_type": "code",
      "source": [
        "(train_input, train_target), (test_input, test_target) = keras.datasets.fashion_mnist.load_data()\n",
        "# 텐서플로의 케라스 패키지를 임포트하고 패션 MNIST 데이터를 다운로드\n",
        "# keras.datasets.fashion_mnist 모듈 아래 load_data()함수 => 훈련 데이터와 테스트 데이터를 나누어 반환"
      ],
      "metadata": {
        "id": "sL2mojJ6jMC_"
      },
      "execution_count": null,
      "outputs": []
    },
    {
      "cell_type": "code",
      "source": [
        "train_input.shape\n",
        "# 60000장의 데이터를 사용하겠다."
      ],
      "metadata": {
        "colab": {
          "base_uri": "https://localhost:8080/"
        },
        "id": "N98Ck_Cmj2bj",
        "outputId": "1ecdf0a4-1443-4033-c42b-39e3191357fa"
      },
      "execution_count": null,
      "outputs": [
        {
          "output_type": "execute_result",
          "data": {
            "text/plain": [
              "(60000, 28, 28)"
            ]
          },
          "metadata": {},
          "execution_count": 8
        }
      ]
    },
    {
      "cell_type": "code",
      "source": [
        "import matplotlib.pyplot as plt\n",
        "plt.imshow(train_input[0])\n",
        "# 우리가 가진 데이터의 0번째 데이터를 출력해보자."
      ],
      "metadata": {
        "colab": {
          "base_uri": "https://localhost:8080/",
          "height": 447
        },
        "id": "gUKG8_D3kYBJ",
        "outputId": "4d7bda50-fc53-49be-fafe-5e6938ac690e"
      },
      "execution_count": null,
      "outputs": [
        {
          "output_type": "execute_result",
          "data": {
            "text/plain": [
              "<matplotlib.image.AxesImage at 0x7be695a84a50>"
            ]
          },
          "metadata": {},
          "execution_count": 11
        },
        {
          "output_type": "display_data",
          "data": {
            "text/plain": [
              "<Figure size 640x480 with 1 Axes>"
            ],
            "image/png": "[encoded data removed]"
          },
          "metadata": {}
        }
      ]
    },
    {
      "cell_type": "code",
      "source": [
        "plt.imshow(train_input[0], cmap='gray_r')\n",
        "# 해당 데이터 이미지를 흑백으로 보여주세요."
      ],
      "metadata": {
        "colab": {
          "base_uri": "https://localhost:8080/",
          "height": 447
        },
        "id": "bTvJRMnclClQ",
        "outputId": "89e4b58c-04d9-442b-af87-21f0a5eb5d53"
      },
      "execution_count": null,
      "outputs": [
        {
          "output_type": "execute_result",
          "data": {
            "text/plain": [
              "<matplotlib.image.AxesImage at 0x7be695813f90>"
            ]
          },
          "metadata": {},
          "execution_count": 14
        },
        {
          "output_type": "display_data",
          "data": {
            "text/plain": [
              "<Figure size 640x480 with 1 Axes>"
            ],
            "image/png": "[encoded data removed]"
          },
          "metadata": {}
        }
      ]
    },
    {
      "cell_type": "markdown",
      "source": [
        "딥러닝은 데이터가 충분해야 의미가 있다."
      ],
      "metadata": {
        "id": "-QaC1fBCmiIX"
      }
    },
    {
      "cell_type": "markdown",
      "source": [
        "### 로즈스틱 회귀로 패션 아이템 분류하기\n",
        "> p.344\n",
        "- scale값조정: ( 수치 보정 ) 0부터 1사이의 수치로 표현하기 위해 255로 나눠주자.\n",
        "- `tgrain_scaled = train_input / 255.0`\n"
      ],
      "metadata": {
        "id": "FOtqr3TumuLv"
      }
    },
    {
      "cell_type": "code",
      "source": [
        " train_scaled = train_input / 255.0\n",
        " train_scaled = train_scaled.reshape(-1, 28*28)\n",
        " # train_scaled = train_scaled.reshape(60000, 28*28)\n",
        " # 같은 의미의 코드 (-1을 쓴 이유는, 그 60000장의 데이터를 그대로 쓰겠다는 의미)"
      ],
      "metadata": {
        "id": "JqEFyljanPoD"
      },
      "execution_count": 16,
      "outputs": []
    },
    {
      "cell_type": "code",
      "source": [
        "from sklearn.model_selection import cross_validate\n",
        "from sklearn.linear_model import SGDClassifier\n",
        "\n",
        "sc = SGDClassifier(loss='log_loss', max_iter=5)\n",
        "# SGDClassifier 의 반복 횟수 (max_iter)를 5번으로\n",
        "scores = cross_validate(sc, train_scaled, train_target, n_jobs=-1)\n",
        "# 교차 검증을 위해\n",
        "# 5개의 폴드로 나눠서 교차 검증\n",
        "\n",
        "print(scores)"
      ],
      "metadata": {
        "colab": {
          "base_uri": "https://localhost:8080/"
        },
        "id": "tXeK2B4Anm3Y",
        "outputId": "e8f0b80b-e2cb-49e3-d1a9-d424946b2236"
      },
      "execution_count": 18,
      "outputs": [
        {
          "output_type": "stream",
          "name": "stdout",
          "text": [
            "{'fit_time': array([10.37565374, 10.37523699, 11.19846702, 11.0156455 ,  7.9053359 ]), 'score_time': array([0.05881214, 0.08689356, 0.06072807, 0.04517412, 0.03136849]), 'test_score': array([0.82725   , 0.81483333, 0.82166667, 0.8255    , 0.80516667])}\n"
          ]
        }
      ]
    },
    {
      "cell_type": "code",
      "source": [
        "# 로지스틱 회귀로 60000장의 데이터를 선형 방정식으로 출력해봄."
      ],
      "metadata": {
        "id": "1lMQZSv5oHIo"
      },
      "execution_count": 20,
      "outputs": []
    },
    {
      "cell_type": "code",
      "source": [
        "# 텐서플로와 케라스 (p.350)\n",
        "import tensorflow as tf"
      ],
      "metadata": {
        "id": "k91VXLNXsegU"
      },
      "execution_count": 22,
      "outputs": []
    },
    {
      "cell_type": "markdown",
      "source": [
        "### 인공 신경망으로 모델 만들기\n",
        "> p. 352"
      ],
      "metadata": {
        "id": "03q1PtuDsreg"
      }
    },
    {
      "cell_type": "code",
      "source": [
        "from sklearn.model_selection import train_test_split\n",
        "\n",
        "train_scaled, val_scaled, train_target, val_target = train_test_split(train_scaled, train_target)\n",
        "# 훈련 세트와 검증 세트로 나눔"
      ],
      "metadata": {
        "id": "WBdR0s8eswrj"
      },
      "execution_count": 24,
      "outputs": []
    },
    {
      "cell_type": "code",
      "source": [
        "# 인공 신경망의 `층` 만들기 (p.353)\n",
        "# 출력층과 밀집층 (dense layer)\n",
        "# 출력할 뉴런 개수, 뉴런의 출력에 적용할 함수, 입력의 크기 순으로 적어준다."
      ],
      "metadata": {
        "id": "trF9C196tfus"
      },
      "execution_count": 25,
      "outputs": []
    },
    {
      "cell_type": "code",
      "source": [
        "# 신경망: `뉴런` 만들기\n",
        "\n",
        "dense = keras.layers.Dense(10, activation='softmax', input_shape=(784,))\n",
        "# 활성화 함수 activation = 뉴런의 출력에 적용할 함수: softmax 소프트 맥스 함수"
      ],
      "metadata": {
        "colab": {
          "base_uri": "https://localhost:8080/"
        },
        "id": "g31EeVnMt0FK",
        "outputId": "b89e9af5-2051-4c40-dc1b-1b3786f8d067"
      },
      "execution_count": 26,
      "outputs": [
        {
          "output_type": "stream",
          "name": "stderr",
          "text": [
            "/usr/local/lib/python3.11/dist-packages/keras/src/layers/core/dense.py:87: UserWarning: Do not pass an `input_shape`/`input_dim` argument to a layer. When using Sequential models, prefer using an `Input(shape)` object as the first layer in the model instead.\n",
            "  super().__init__(activity_regularizer=activity_regularizer, **kwargs)\n"
          ]
        }
      ]
    },
    {
      "cell_type": "code",
      "source": [
        "# 위에서 만든 신경망을 사용할려면 모델로 만들어줘야한다.\n",
        "\n",
        "model = keras.Sequential([dense]) # => dense는 리스트로 넣어 줘야한다.\n",
        "\n",
        "# 그동안은 사용할 모델을 가져다가 썼다.\n",
        "# 하지만 딥러닝에서는 모델을 내가 구축해줘야한다.\n",
        "#\n",
        "# 나는 dense층 1개를 가진 모델을 만든 것이다."
      ],
      "metadata": {
        "id": "olq4PSMttJDx"
      },
      "execution_count": 31,
      "outputs": []
    },
    {
      "cell_type": "code",
      "source": [
        "# compile이라는 단계를 지정해주기\n",
        "# 학습에 대한 `기준점`을 정해주는 과정\n",
        "\n",
        "# 학습 방법도 내가 명시를 해줘야한다.\n",
        "\n",
        "model.compile(loss='sparse_categorical_crossentropy', metrics=['accuracy'])\n",
        "# 손실함수"
      ],
      "metadata": {
        "id": "-G_xUDg-vHjc"
      },
      "execution_count": 33,
      "outputs": []
    },
    {
      "cell_type": "markdown",
      "source": [
        "### 딥러닝에서 모델 구축/ 학습을 진행하는 과정 3단계!\n",
        "\n",
        "> 1. 층을 만든다\n",
        ">\n",
        "> 2. 층을 등록해 모델을 만든다.\n",
        ">\n",
        "> 3. 학습하는 방향을 제시해준다."
      ],
      "metadata": {
        "id": "-QMFwntawFKU"
      }
    },
    {
      "cell_type": "code",
      "source": [
        "model.fit(train_scaled, train_target, epochs=5)"
      ],
      "metadata": {
        "colab": {
          "base_uri": "https://localhost:8080/"
        },
        "id": "uMFIhyC3wPvn",
        "outputId": "41597eac-090c-403b-a04a-c07d6dab2942"
      },
      "execution_count": 34,
      "outputs": [
        {
          "output_type": "stream",
          "name": "stdout",
          "text": [
            "Epoch 1/5\n",
            "\u001b[1m1055/1055\u001b[0m \u001b[32m━━━━━━━━━━━━━━━━━━━━\u001b[0m\u001b[37m\u001b[0m \u001b[1m3s\u001b[0m 2ms/step - accuracy: 0.7152 - loss: 0.8425\n",
            "Epoch 2/5\n",
            "\u001b[1m1055/1055\u001b[0m \u001b[32m━━━━━━━━━━━━━━━━━━━━\u001b[0m\u001b[37m\u001b[0m \u001b[1m4s\u001b[0m 2ms/step - accuracy: 0.8278 - loss: 0.5048\n",
            "Epoch 3/5\n",
            "\u001b[1m1055/1055\u001b[0m \u001b[32m━━━━━━━━━━━━━━━━━━━━\u001b[0m\u001b[37m\u001b[0m \u001b[1m3s\u001b[0m 2ms/step - accuracy: 0.8409 - loss: 0.4657\n",
            "Epoch 4/5\n",
            "\u001b[1m1055/1055\u001b[0m \u001b[32m━━━━━━━━━━━━━━━━━━━━\u001b[0m\u001b[37m\u001b[0m \u001b[1m3s\u001b[0m 2ms/step - accuracy: 0.8504 - loss: 0.4459\n",
            "Epoch 5/5\n",
            "\u001b[1m1055/1055\u001b[0m \u001b[32m━━━━━━━━━━━━━━━━━━━━\u001b[0m\u001b[37m\u001b[0m \u001b[1m3s\u001b[0m 3ms/step - accuracy: 0.8531 - loss: 0.4367\n"
          ]
        },
        {
          "output_type": "execute_result",
          "data": {
            "text/plain": [
              "<keras.src.callbacks.history.History at 0x7be6667ebc10>"
            ]
          },
          "metadata": {},
          "execution_count": 34
        }
      ]
    },
    {
      "cell_type": "code",
      "source": [
        "model.evaluate(val_scaled, val_target)\n",
        "# 이전 `머신러닝`에서의 scores랑 같은 함수: evaluate()\n",
        "# 앞 숫자는 loss값으로 손실 정도, 뒤는 accuracy로 정확도를 의미한다."
      ],
      "metadata": {
        "colab": {
          "base_uri": "https://localhost:8080/"
        },
        "id": "RfZfTVyQwXfB",
        "outputId": "076b954c-addf-4f6e-9800-6b4cab63d409"
      },
      "execution_count": 37,
      "outputs": [
        {
          "output_type": "stream",
          "name": "stdout",
          "text": [
            "\u001b[1m352/352\u001b[0m \u001b[32m━━━━━━━━━━━━━━━━━━━━\u001b[0m\u001b[37m\u001b[0m \u001b[1m1s\u001b[0m 2ms/step - accuracy: 0.8371 - loss: 0.4670\n"
          ]
        },
        {
          "output_type": "execute_result",
          "data": {
            "text/plain": [
              "[0.45494499802589417, 0.8404444456100464]"
            ]
          },
          "metadata": {},
          "execution_count": 37
        }
      ]
    },
    {
      "cell_type": "markdown",
      "source": [
        "#### <머신러닝>: 인공신경망 - 나만의 모델을 만든다!"
      ],
      "metadata": {
        "id": "NmLzEXQuxXCc"
      }
    }
  ]
}