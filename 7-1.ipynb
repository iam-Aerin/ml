{
 "cells": [
  {
   "cell_type": "markdown",
   "id": "b3d0cd84-5d03-47c3-8dc4-e41d377bcca6",
   "metadata": {},
   "source": [
    "# Chapter 07 딥러닝을 시작합니다. \n",
    "> p.339"
   ]
  },
  {
   "cell_type": "markdown",
   "id": "426c8ef8-7f7d-498f-a4e7-603f1d99c563",
   "metadata": {},
   "source": [
    "# 07-1. 인공 신경망\n",
    "> 인공 신경망, 텐서플로, 밀집층, 원-핫 인코딩\n",
    ">\n",
    "> 딥러닝과 인공 신경망 알고리즘을 이해하고 텐서플로를 사용해 간단한 인공 신경망 모델을 만들어 봅니다.\n",
    ">\n",
    "- MNIST 데이터셋 : 패션 이미지 데이터들을 주고, 종류별로 구분하도록 (p. 341)\n",
    "- "
   ]
  }
 ],
 "metadata": {
  "kernelspec": {
   "display_name": "Python 3 (ipykernel)",
   "language": "python",
   "name": "python3"
  },
  "language_info": {
   "codemirror_mode": {
    "name": "ipython",
    "version": 3
   },
   "file_extension": ".py",
   "mimetype": "text/x-python",
   "name": "python",
   "nbconvert_exporter": "python",
   "pygments_lexer": "ipython3",
   "version": "3.13.2"
  }
 },
 "nbformat": 4,
 "nbformat_minor": 5
}
